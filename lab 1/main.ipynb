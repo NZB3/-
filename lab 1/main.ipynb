{
 "cells": [
  {
   "metadata": {},
   "cell_type": "code",
   "outputs": [],
   "execution_count": null,
   "source": [
    "import tensorflow as tf\n",
    "import numpy as np\n",
    "import matplotlib.pyplot as plt"
   ],
   "id": "ffffb77091ebca90"
  },
  {
   "metadata": {},
   "cell_type": "code",
   "outputs": [],
   "execution_count": null,
   "source": [
    "# Set random seed for reproducibility\n",
    "tf.random.set_seed(42)\n",
    "np.random.seed(42)"
   ],
   "id": "ea8385ea2b5c9084"
  },
  {
   "metadata": {},
   "cell_type": "code",
   "outputs": [],
   "execution_count": null,
   "source": [
    "# Parameters\n",
    "m = 100\n",
    "min_value = -5\n",
    "max_value = 5"
   ],
   "id": "ab35c2284ff2840a"
  },
  {
   "metadata": {},
   "cell_type": "code",
   "outputs": [],
   "execution_count": null,
   "source": [
    "# Task 1: Create artificial sample\n",
    "# Generate uniform and normal distributions using TensorFlow\n",
    "x = tf.random.uniform(shape=(m,), minval=min_value, maxval=max_value)\n",
    "noise = tf.random.normal(shape=(m,), mean=0, stddev=1)\n",
    "\n",
    "# True parameters for quadratic regression\n",
    "true_k1 = tf.constant(0.5, dtype=tf.float32)\n",
    "true_k0 = tf.constant(2.0, dtype=tf.float32)\n",
    "true_b = tf.constant(1.0, dtype=tf.float32)\n",
    "\n",
    "# Generate target values\n",
    "y = true_k1 * tf.square(x) + true_k0 * x + true_b + noise"
   ],
   "id": "70ae3de4886c4393"
  },
  {
   "metadata": {},
   "cell_type": "code",
   "outputs": [],
   "execution_count": null,
   "source": [
    "# Task 2: Gradient Descent Implementation\n",
    "@tf.function\n",
    "def quadratic_model(x, k1, k0, b):\n",
    "    return k1 * tf.square(x) + k0 * x + b\n",
    "\n",
    "@tf.function\n",
    "def compute_loss(y_true, y_pred):\n",
    "    return tf.reduce_mean(tf.square(y_true - y_pred))"
   ],
   "id": "9c5719d04fb05362"
  },
  {
   "metadata": {},
   "cell_type": "code",
   "outputs": [],
   "execution_count": null,
   "source": [
    "# Initialize parameters\n",
    "k1 = tf.Variable(0.0)\n",
    "k0 = tf.Variable(0.0)\n",
    "b = tf.Variable(0.0)"
   ],
   "id": "db9867a19df49035"
  },
  {
   "metadata": {},
   "cell_type": "code",
   "outputs": [],
   "execution_count": null,
   "source": [
    "# Training parameters\n",
    "learning_rate = 0.001\n",
    "epochs = 10000\n",
    "optimizer = tf.keras.optimizers.Adam(learning_rate=learning_rate)"
   ],
   "id": "396f2499604805cd"
  },
  {
   "metadata": {},
   "cell_type": "code",
   "outputs": [],
   "execution_count": null,
   "source": [
    "# Training loop\n",
    "loss_history = []\n",
    "\n",
    "for epoch in range(epochs):\n",
    "    with tf.GradientTape() as tape:\n",
    "        y_pred = quadratic_model(x, k1, k0, b)\n",
    "        loss = compute_loss(y, y_pred)\n",
    "    \n",
    "    # Compute gradients\n",
    "    gradients = tape.gradient(loss, [k1, k0, b])\n",
    "    \n",
    "    # Apply gradients\n",
    "    optimizer.apply_gradients(zip(gradients, [k1, k0, b]))\n",
    "    \n",
    "    loss_history.append(loss.numpy())"
   ],
   "id": "e5f5443259fbd95f"
  },
  {
   "metadata": {},
   "cell_type": "code",
   "outputs": [],
   "execution_count": null,
   "source": [
    "# Task 3: Visualization\n",
    "plt.figure(figsize=(12, 5))\n",
    "\n",
    "# Plot loss history\n",
    "plt.subplot(1, 2, 1)\n",
    "plt.plot(loss_history)\n",
    "plt.title('Loss over Iterations')\n",
    "plt.xlabel('Iterations')\n",
    "plt.ylabel('Mean Squared Error')\n",
    "\n",
    "# Plot regression results\n",
    "plt.subplot(1, 2, 2)\n",
    "plt.scatter(x, y, label='Original Data', alpha=0.7)\n",
    "\n",
    "# Sort x values for smooth curve plotting\n",
    "x_sorted = tf.sort(x)\n",
    "y_true = quadratic_model(x_sorted, true_k1, true_k0, true_b)\n",
    "y_pred = quadratic_model(x_sorted, k1, k0, b)\n",
    "\n",
    "plt.plot(x_sorted, y_true, 'r-', label='True Model')\n",
    "plt.plot(x_sorted, y_pred, 'g--', label='Estimated Model')\n",
    "plt.title('Quadratic Regression')\n",
    "plt.xlabel('x')\n",
    "plt.ylabel('y')\n",
    "plt.legend()\n",
    "\n",
    "# Print results\n",
    "print(\"\\nTrue Parameters:\")\n",
    "print(f\"k1: {true_k1.numpy():.4f}, k0: {true_k0.numpy():.4f}, b: {true_b.numpy():.4f}\")\n",
    "print(\"\\nEstimated Parameters:\")\n",
    "print(f\"k1: {k1.numpy():.4f}, k0: {k0.numpy():.4f}, b: {b.numpy():.4f}\")\n",
    "\n",
    "plt.tight_layout()\n",
    "plt.show()\n"
   ],
   "id": "da15bba6ea17d0d0"
  }
 ],
 "metadata": {
  "kernelspec": {
   "display_name": "Python 3",
   "language": "python",
   "name": "python3"
  },
  "language_info": {
   "codemirror_mode": {
    "name": "ipython",
    "version": 2
   },
   "file_extension": ".py",
   "mimetype": "text/x-python",
   "name": "python",
   "nbconvert_exporter": "python",
   "pygments_lexer": "ipython2",
   "version": "2.7.6"
  }
 },
 "nbformat": 4,
 "nbformat_minor": 5
}
